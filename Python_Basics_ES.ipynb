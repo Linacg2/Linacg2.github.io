{
  "cells": [
    {
      "cell_type": "markdown",
      "metadata": {
        "id": "_lylIMVONR4v"
      },
      "source": [
        "# Ejercicios introductorios a Python\n",
        "Este `jupyter notebook` presenta ejercicios introductorios de Python, cubriendo los siguientes temas: variables, tipos de datos, operaciones aritméticas, booleanos, listas, tuplas y diccionarios, cadenas, bucles, funciones, clases, lectura y escritura en ficheros de texto. El objetivo es reproducir el código por tu cuenta y comentar detalladamente cada línea de código."
      ]
    },
    {
      "cell_type": "markdown",
      "metadata": {
        "id": "CSB-JSxsNR4z"
      },
      "source": [
        "# 1- Números y variables\n",
        "\n",
        "\n",
        "\n"
      ]
    },
    {
      "cell_type": "markdown",
      "source": [
        "## Variables"
      ],
      "metadata": {
        "id": "Lh_3JOFIOuvc"
      }
    },
    {
      "cell_type": "code",
      "execution_count": null,
      "metadata": {
        "id": "PCjidfX7NR4z",
        "colab": {
          "base_uri": "https://localhost:8080/"
        },
        "outputId": "f04f948a-72c7-4526-bb1e-e4e025fe2313"
      },
      "outputs": [
        {
          "output_type": "execute_result",
          "data": {
            "text/plain": [
              "5"
            ]
          },
          "metadata": {},
          "execution_count": 1
        }
      ],
      "source": [
        "2 + 2 + 1 #Se opera una suma entre numeros enteros"
      ]
    },
    {
      "cell_type": "code",
      "execution_count": null,
      "metadata": {
        "id": "MOYpqcNtNR41",
        "colab": {
          "base_uri": "https://localhost:8080/"
        },
        "outputId": "627b430f-43b0-4bb5-a34e-1db585734c4e"
      },
      "outputs": [
        {
          "output_type": "stream",
          "name": "stdout",
          "text": [
            "4\n",
            "<class 'int'>\n"
          ]
        }
      ],
      "source": [
        "a = 4 #Define una variable de tipo entero\n",
        "print(a) #imprime el valor de a\n",
        "print(type(a)) #imprime el tipo de dato de la variable a"
      ]
    },
    {
      "cell_type": "code",
      "execution_count": null,
      "metadata": {
        "id": "coyVXBGqNR41"
      },
      "outputs": [],
      "source": [
        "a,x = 4, 9000 #Define unas variables de tipo entero\n",
        "print(a) #Imprime el valor de a\n",
        "print(x) #Imprime el valor de x"
      ]
    },
    {
      "cell_type": "markdown",
      "metadata": {
        "id": "Xe_3NraoNR41"
      },
      "source": [
        "Los nombres de las variables pueden contener `a-z`, `A-Z`, `0-9` y algún carácter especial como `_` pero siempre deben empezar por una letra. Por convención, los nombres de las variables se escriben en minúsculas.\n",
        "\n",
        "\n",
        "## Tipos\n",
        "\n",
        "Las variables están *debilmente tipadas* en python lo que significa que su tipo se deduce del contexto: la inicialización o los tipos de las variables utilizadas para su cálculo. Observa el siguiente ejemplo."
      ]
    },
    {
      "cell_type": "code",
      "execution_count": null,
      "metadata": {
        "id": "mu11rrzANR41",
        "colab": {
          "base_uri": "https://localhost:8080/"
        },
        "outputId": "cde80ada-7655-436f-e7a6-ea4e9e7340fc"
      },
      "outputs": [
        {
          "output_type": "stream",
          "name": "stdout",
          "text": [
            "Entero\n",
            "3 <class 'int'>\n",
            "\n",
            "Float\n",
            "3.14 <class 'float'>\n",
            "\n",
            "Complejo\n",
            "(3.14+2j) <class 'complex'>\n",
            "3.14 <class 'float'>\n",
            "2.0 <class 'float'>\n"
          ]
        }
      ],
      "source": [
        "print(\"Entero\") #Imprime una cadena de caracteres\n",
        "a = 3 #Define una variable tipo entero\n",
        "print(a,type(a)) #Imprime la variable a y concatena la impresion del tipo de dato de la varible a\n",
        "\n",
        "print(\"\\nFloat\") #Utiliza un caracter de nuevalinea e imprime una cadena de caracteres\n",
        "b = 3.14 #Define una variable de tipo float\n",
        "print(b,type(b)) #Imprimela varible b y concatena la impresion del tipo de dato de la variable b\n",
        "\n",
        "print(\"\\nComplejo\") #Utiliza un caracter de nuevalinea e imprime una cadena de caracteres\n",
        "c = 3.14 + 2j #Define un valor a la variable usando la operacion de suma con otro valor imaginario\n",
        "print(c,type(c)) #Imprime la variable c y concatena la impresion del tipo de dato de la variable c\n",
        "print(c.real,type(c.real)) #Imprime la variable c en su parte real y concatena la impresion del tipo de dato\n",
        "print(c.imag,type(c.imag)) #Imprime el componente imaginario de la variable c  y concatena la impresion del tipo de dato"
      ]
    },
    {
      "cell_type": "markdown",
      "metadata": {
        "id": "2piAOl0yNR42"
      },
      "source": [
        "Esta tipificación puede llevar a que alguna variable tenga tipos no deseados, lo que puede resolverse *casting*."
      ]
    },
    {
      "cell_type": "code",
      "execution_count": null,
      "metadata": {
        "id": "dovzGtFNNR42",
        "colab": {
          "base_uri": "https://localhost:8080/"
        },
        "outputId": "3b78a334-ecc6-4a2b-bf8a-ada7d63ddd5a"
      },
      "outputs": [
        {
          "output_type": "stream",
          "name": "stdout",
          "text": [
            "(-1+0j) <class 'complex'>\n",
            "-1.0 <class 'float'>\n",
            "-1 <class 'int'>\n"
          ]
        }
      ],
      "source": [
        "d = 1j*1j #Define una variable de tipo complex\n",
        "print(d,type(d)) #Imprime la variable d y concatena el tipo de dato\n",
        "d = d.real #Declara el componente real del numero imaginario\n",
        "print(d,type(d)) #Imprime la variable d y concatena el tipo de dato\n",
        "d = int(d) #Define la variable d como tipo entero\n",
        "print(d,type(d)) #Imprime la variable d y concatena el tipo de dato"
      ]
    },
    {
      "cell_type": "code",
      "execution_count": null,
      "metadata": {
        "id": "qpDR1a8hNR42",
        "colab": {
          "base_uri": "https://localhost:8080/"
        },
        "outputId": "aa23af50-26ad-4ea6-e775-55d81c630544"
      },
      "outputs": [
        {
          "output_type": "stream",
          "name": "stdout",
          "text": [
            "3.3333333333333335 <class 'float'>\n",
            "1.0 <class 'float'>\n",
            "1 <class 'int'>\n"
          ]
        }
      ],
      "source": [
        "e = 10/3 #Define una variable de tipo float\n",
        "print(e,type(e)) #Imprime la variable e y concatena el tipo de dato\n",
        "f = (10/3)/(10/3) #Define una variable de tipo float\n",
        "print(f,type(f)) #Imprime la variable f y concatena el tipo de dato\n",
        "f = int((10/3)/(10/3)) #Define la variable f como tipo entero\n",
        "print(f,type(f)) #Imprime la variable f y concatena el tipo de dato"
      ]
    },
    {
      "cell_type": "markdown",
      "metadata": {
        "id": "FTmhbDJwNR42"
      },
      "source": [
        "## Operaciones con números\n",
        "\n",
        "Las operaciones habituales son\n",
        "* Multiplicación y División con `*` y `/` respectivamente\n",
        "* Exponente con `**`.\n",
        "* Módulo con `%`."
      ]
    },
    {
      "cell_type": "code",
      "execution_count": null,
      "metadata": {
        "id": "_l2WBcsNNR42",
        "colab": {
          "base_uri": "https://localhost:8080/"
        },
        "outputId": "5d2207a7-1d03-46f7-8563-3ef58dc87ea1"
      },
      "outputs": [
        {
          "output_type": "stream",
          "name": "stdout",
          "text": [
            "21.0 <class 'float'>\n"
          ]
        }
      ],
      "source": [
        "print(7 * 3., type(7 * 3.)) #Imprime el resultado de una operacion de multiplicacion entre un entero y un float y concatena el tipo de dato de la operacion hecha"
      ]
    },
    {
      "cell_type": "code",
      "execution_count": null,
      "metadata": {
        "id": "TwydJqMuNR43",
        "colab": {
          "base_uri": "https://localhost:8080/"
        },
        "outputId": "64e1c4d5-dbdd-40fd-c649-b3a587b3ec33"
      },
      "outputs": [
        {
          "output_type": "stream",
          "name": "stdout",
          "text": [
            "1.5 <class 'float'>\n",
            "1.5 <class 'float'>\n"
          ]
        }
      ],
      "source": [
        "print(3/2, type(3/2))  #Imprime el resultado de una operacion de division entre dos enteros y concatena el tipo de dato de la operacion\n",
        "print(3/2., type(3/2.)) #Imprime el resultado de una operacion de division entre un entero y un float y concatena el tipo de dato de la operacion"
      ]
    },
    {
      "cell_type": "code",
      "execution_count": null,
      "metadata": {
        "id": "YbZjohatNR43",
        "colab": {
          "base_uri": "https://localhost:8080/"
        },
        "outputId": "9b1d6d35-b2fd-44a0-e496-5b072e42b226"
      },
      "outputs": [
        {
          "output_type": "stream",
          "name": "stdout",
          "text": [
            "1024 <class 'int'>\n"
          ]
        }
      ],
      "source": [
        "print(2**10, type(2**10)) #Imprime el resultado de una operacion de potenciacion entre dos enteros y concatena el tipo de dato del resultado de la operacion"
      ]
    },
    {
      "cell_type": "code",
      "execution_count": null,
      "metadata": {
        "id": "9D7TKPNeNR43",
        "colab": {
          "base_uri": "https://localhost:8080/"
        },
        "outputId": "a86874e0-c6a6-43d7-a651-2176c2f7dc67"
      },
      "outputs": [
        {
          "output_type": "stream",
          "name": "stdout",
          "text": [
            "0 <class 'int'>\n"
          ]
        }
      ],
      "source": [
        "print(8%2, type(8%2)) #Imprime el resultado de una operacion del modulo y concatena el tipo de dato del resultado de la operacion"
      ]
    },
    {
      "cell_type": "markdown",
      "metadata": {
        "id": "SBb9ShlENR43"
      },
      "source": [
        "## Booleanos\n",
        "\n",
        "Boolean es el tipo de una variable `True` o `False` y por lo tanto son extremadamente útiles a la hora de codificar.\n",
        "* Se pueden obtener por comparaciones `>`, `>=` (mayor, mayor o égal), `<`, `<=` (menor, menor o igual) o pertenencia `==` , `!=` (igualdad, diferente).\n",
        "* Pueden manipularse mediante las operaciones lógicas `and`, `not`, `or`."
      ]
    },
    {
      "cell_type": "code",
      "execution_count": null,
      "metadata": {
        "id": "MRie4p0VNR43",
        "colab": {
          "base_uri": "https://localhost:8080/"
        },
        "outputId": "f290786d-1acd-4bb6-cca2-2ed5a0c8d84e"
      },
      "outputs": [
        {
          "output_type": "stream",
          "name": "stdout",
          "text": [
            "2 > 1\t True\n",
            "2 > 2\t False\n",
            "2 >= 2\t True\n",
            "2 == 2\t True\n",
            "2 == 2.0 True\n",
            "2 != 1.9 True\n"
          ]
        }
      ],
      "source": [
        "print('2 > 1\\t', 2 > 1) #Imprime una cadena de caracteres con una tabulacion y concatena una operacion con resultado boolean\n",
        "print('2 > 2\\t', 2 > 2) #Imprime una cadena de caracteres con una tabulacion y concatena una operacion con resultado boolean\n",
        "print('2 >= 2\\t',2 >= 2) #Imprime una cadena de caracteres con una tabulacion y concatena una operacion con resultado boolean\n",
        "print('2 == 2\\t',2 == 2) #Imprime una cadena de caracteres con una tabulacion y concatena una operacion con resultado boolean\n",
        "print('2 == 2.0',2 == 2.0) #Imprime una cadena de caracteres  y concatena una operacion con resultado boolean\n",
        "print('2 != 1.9',2 != 1.9) #Imprime una cadena de caracteres  y concatena una operacion con resultado boolean"
      ]
    },
    {
      "cell_type": "code",
      "source": [
        "from google.colab import drive\n",
        "drive.mount('/content/drive')"
      ],
      "metadata": {
        "colab": {
          "base_uri": "https://localhost:8080/"
        },
        "id": "HKI2tPF9naIE",
        "outputId": "5d281103-a5db-406d-8a4e-00456c934c42"
      },
      "execution_count": 52,
      "outputs": [
        {
          "output_type": "stream",
          "name": "stdout",
          "text": [
            "Mounted at /content/drive\n"
          ]
        }
      ]
    },
    {
      "cell_type": "code",
      "execution_count": null,
      "metadata": {
        "id": "Ciq1GlxkNR44",
        "colab": {
          "base_uri": "https://localhost:8080/"
        },
        "outputId": "fe94f0d7-e502-49fe-edc7-fc2c15162684"
      },
      "outputs": [
        {
          "output_type": "stream",
          "name": "stdout",
          "text": [
            "False\n",
            "True\n",
            "True\n"
          ]
        }
      ],
      "source": [
        "print(True and False) #Imprime una conjucion entre la logica de true y false siendo estos un valor booleano\n",
        "print(True or True) #Imprime una disyuncion entre la logica de true o false siendo estos un valor booleano\n",
        "print(not False) #Imprime un operador unario realizando una negacion logica de false"
      ]
    },
    {
      "cell_type": "markdown",
      "metadata": {
        "id": "SjirjpCsNR44"
      },
      "source": [
        "## Listas\n",
        "\n",
        "Las listas son el elemento base para secuencias de variables en python, son en sí mismas un tipo de variable.\n",
        "* La sintaxis para escribirlas es `[ ... , ... ]`.\n",
        "* Los tipos de los elementos pueden no ser todos iguales\n",
        "* Los índices comienzan en $0$ (`l[0]` es el primer elemento de `l`)\n",
        "* Las listas pueden estar anidadas (listas de listas de ...)\n",
        "\n",
        "\n",
        "*Advertencia:* En Python existe otro tipo llamado *tupla* con la sintaxis `( ... , ... )`. Tiene casi la misma estructura que una lista con la notable excepción de que no se pueden añadir o eliminar elementos de una tupla. Las veremos brevemente más adelante."
      ]
    },
    {
      "cell_type": "code",
      "execution_count": null,
      "metadata": {
        "id": "ktX9dIqyNR44",
        "colab": {
          "base_uri": "https://localhost:8080/"
        },
        "outputId": "69c0f73e-aa04-468c-ec00-f01f8f8f6669"
      },
      "outputs": [
        {
          "output_type": "stream",
          "name": "stdout",
          "text": [
            "[1, 2, 3, [4, 8], True, 2.3] <class 'list'>\n"
          ]
        }
      ],
      "source": [
        "l = [1, 2, 3, [4,8] , True , 2.3] #Define una variable como una lista con diferentes tipos de datos\n",
        "print(l, type(l)) #Imprime la variable l y concatena el tipo de la variable"
      ]
    },
    {
      "cell_type": "code",
      "execution_count": null,
      "metadata": {
        "id": "X4txELp4NR44",
        "colab": {
          "base_uri": "https://localhost:8080/"
        },
        "outputId": "78f4bad0-689c-441f-a750-9ea4cac250d3"
      },
      "outputs": [
        {
          "output_type": "stream",
          "name": "stdout",
          "text": [
            "1 <class 'int'>\n",
            "[4, 8] <class 'list'>\n",
            "8 <class 'int'>\n"
          ]
        }
      ],
      "source": [
        "print(l[0],type(l[0])) #Imprime el valor que se encuentra en la posicicon principal de la variable l y concatena el tipo de dato\n",
        "print(l[3],type(l[3])) #Imprime el valor que se encuentra en la posicicon 3 de la variable l y concatena el tipo de dato\n",
        "print(l[3][1],type(l[3][1])) #Imprime el valor que se encuenta en la posicion 3 dando la posicion 1 de los corchetes de la variable l y concate el tipo de dato"
      ]
    },
    {
      "cell_type": "code",
      "execution_count": null,
      "metadata": {
        "id": "slBEjTGnNR44",
        "colab": {
          "base_uri": "https://localhost:8080/"
        },
        "outputId": "7d6e3f2c-14a7-4e2e-9846-100b6500bb75"
      },
      "outputs": [
        {
          "output_type": "stream",
          "name": "stdout",
          "text": [
            "[1, 2, 3, [4, 8], True, 2.3]\n",
            "[True, 2.3]\n",
            "[1, 2, 3, [4, 8], True]\n",
            "[True]\n",
            "[2, [4, 8], 2.3]\n",
            "[2.3, True, [4, 8], 3, 2, 1]\n",
            "2.3\n"
          ]
        }
      ],
      "source": [
        "print(l) #Imprime la variable l\n",
        "print(l[4:]) #Imprime el valor que se encuentra en la posicicon 4 y el valor que se encuentra al final de la lista\n",
        "print(l[:5]) #Imprime los valores que se encuentran hasta los cinco primeros elementos sin imprimir el ultimo elemento de la lista\n",
        "print(l[4:5]) #Imprime los valores que se encuentran entren la posicion 4 y 5 sin imprimir el ultimo elemento de la lista\n",
        "print(l[1:6:2]) #Imprime los valores que e encuentran entre la posicion 1 hata el 6 saltandonos de dos en dos en la lista\n",
        "print(l[::-1]) #Imprime los valores que se encuentran en la lista de forma inversa a como esta posicionada principalmente\n",
        "print(l[-1]) #Imprime el valor que se encuentra en la ultima posicion de la lista"
      ]
    },
    {
      "cell_type": "markdown",
      "metadata": {
        "id": "nbHeaGfiNR44"
      },
      "source": [
        "### Operaciones con listas\n",
        "\n",
        "Se puede añadir, insertar, eliminar, contar o comprobar si un elemento está en una lista fácilmente."
      ]
    },
    {
      "cell_type": "code",
      "execution_count": null,
      "metadata": {
        "id": "9IV7OgzANR44",
        "colab": {
          "base_uri": "https://localhost:8080/"
        },
        "outputId": "80da7250-5440-4a48-c1ec-37653df64154"
      },
      "outputs": [
        {
          "output_type": "stream",
          "name": "stdout",
          "text": [
            "[1, 2, 3, [4, 8], True, 2.3, 10]\n"
          ]
        }
      ],
      "source": [
        "l.append(10) #Invoca el metodo append agregando un nuevo valor en la posicion final unicamente en la lista de la variable l\n",
        "print(l) #Imprime la variable l"
      ]
    },
    {
      "cell_type": "code",
      "execution_count": null,
      "metadata": {
        "id": "DdbLblhjNR45",
        "colab": {
          "base_uri": "https://localhost:8080/"
        },
        "outputId": "c56ea20b-aa6f-4dfc-a11c-18b1ccb19ecd"
      },
      "outputs": [
        {
          "output_type": "stream",
          "name": "stdout",
          "text": [
            "[1, 'u', 2, 3, [4, 8], True, 2.3, 10]\n"
          ]
        }
      ],
      "source": [
        "l.insert(1,'u') #Invoca el metodo insert agregando un nuevo elemento en la posicion 1 en la lista de la variable l\n",
        "print(l) #Imprime la varaible l"
      ]
    },
    {
      "cell_type": "code",
      "execution_count": null,
      "metadata": {
        "id": "p-O_Z0e2NR45",
        "colab": {
          "base_uri": "https://localhost:8080/"
        },
        "outputId": "6f5bce8e-d99d-474e-f5ce-41f10d1a31ef"
      },
      "outputs": [
        {
          "output_type": "stream",
          "name": "stdout",
          "text": [
            "[1, 'u', 2, 3, [4, 8], True, 2.3]\n"
          ]
        }
      ],
      "source": [
        "l.remove(10) #Invoca el metodo remove eliminando el elemento deseado en la lista de la variable l\n",
        "print(l) #Imprime la varaible l"
      ]
    },
    {
      "cell_type": "code",
      "execution_count": null,
      "metadata": {
        "id": "UWX6pcUPNR45",
        "colab": {
          "base_uri": "https://localhost:8080/"
        },
        "outputId": "7bd89c39-82eb-4620-bd04-e254673d9ff3"
      },
      "outputs": [
        {
          "output_type": "stream",
          "name": "stdout",
          "text": [
            "7\n",
            "True\n"
          ]
        }
      ],
      "source": [
        "print(len(l)) #Imprime la longitud de la variable l\n",
        "print(2 in l) #Imprime si el elemento esta en la la variable l"
      ]
    },
    {
      "cell_type": "markdown",
      "metadata": {
        "id": "PDBL0TWANR45"
      },
      "source": [
        "### Manejo de listas\n",
        "\n",
        "Las listas son tipos tipo *puntero*. Esto significa que si escribes `l2=l`, no *copias* `l` a `l2` sino que copias el puntero, de modo que si modificas uno, modificarás el otro.\n",
        "\n",
        "La forma correcta de copiar una lista es usar el método `copy` específico para variables de lista."
      ]
    },
    {
      "cell_type": "code",
      "execution_count": null,
      "metadata": {
        "id": "XQcfyYbXNR45",
        "colab": {
          "base_uri": "https://localhost:8080/"
        },
        "outputId": "21728e5f-c7d4-4954-c577-e2eab4ecf5c8"
      },
      "outputs": [
        {
          "output_type": "stream",
          "name": "stdout",
          "text": [
            "[1, 'u', 2, 3, [4, 8], True, 2.3, 'Algo'] [1, 'u', 2, 3, [4, 8], True, 2.3, 'Algo']\n"
          ]
        }
      ],
      "source": [
        "l2 = l #Define una varaible con los elementos de la varaible l\n",
        "l.append('Algo') #Invoca el metodo append con un nuevo valor en la ultima posicion de la variable 2\n",
        "print(l,l2) #Imprime la variable l y concatena la variable l2"
      ]
    },
    {
      "cell_type": "code",
      "execution_count": null,
      "metadata": {
        "id": "-QA6UXvLNR4-",
        "colab": {
          "base_uri": "https://localhost:8080/"
        },
        "outputId": "b9d3ab81-b96b-47e0-ee2f-c6634f684fa4"
      },
      "outputs": [
        {
          "output_type": "stream",
          "name": "stdout",
          "text": [
            "[1, 'u', 2, 3, [4, 8], True, 2.3] [1, 'u', 2, 3, [4, 8], True, 2.3, 'Algo']\n"
          ]
        }
      ],
      "source": [
        "l3 = list(l) #Define una nueva varaible asignandole los varoles que contienen la lista l\n",
        "l.remove('Algo') #Invoca el metodo remove eliminando el elemento desado en la variable l\n",
        "print(l,l3) #Imprime la variable l y concatena la variable l3"
      ]
    },
    {
      "cell_type": "markdown",
      "metadata": {
        "id": "eifZvxbeNR4-"
      },
      "source": [
        "You can have void lists and concatenate list by simply using the + operator, or even repeat them with * ."
      ]
    },
    {
      "cell_type": "code",
      "execution_count": null,
      "metadata": {
        "id": "vjHP7BhpNR4-",
        "colab": {
          "base_uri": "https://localhost:8080/"
        },
        "outputId": "335c060d-31bc-4778-9a4a-b29c02fbff0d"
      },
      "outputs": [
        {
          "output_type": "stream",
          "name": "stdout",
          "text": [
            "[1, 'u', 2, 3, [4, 8], True, 2.3, 4, 8, 10.9865]\n",
            "[4, 8, 10.9865, 4, 8, 10.9865, 4, 8, 10.9865]\n"
          ]
        }
      ],
      "source": [
        "l4 = [] #Define una variable con una lista en blanco\n",
        "l5 =[4,8,10.9865] #Define una variable con dos tipos de datos en una lista\n",
        "print(l+l4+l5) #Imprime concatenando las varaibles l, l4 y l5\n",
        "print(l5*3) #Imprime la varaible l5 y la repite tres veces"
      ]
    },
    {
      "cell_type": "markdown",
      "metadata": {
        "id": "7cqy2QMHNR4-"
      },
      "source": [
        "## Tuplas, Diccionarios [*]\n",
        "\n",
        "\n",
        "* Las tuplas son similares a las listas pero se crean con `(...,...)` o simplemente comas. No se pueden modificar una vez creadas."
      ]
    },
    {
      "cell_type": "code",
      "execution_count": null,
      "metadata": {
        "id": "VXSX3xN0NR4-",
        "colab": {
          "base_uri": "https://localhost:8080/"
        },
        "outputId": "1783d5d5-f00b-4207-e07a-eb68b97df2a0"
      },
      "outputs": [
        {
          "output_type": "stream",
          "name": "stdout",
          "text": [
            "(1, 'b', 876876.908) <class 'tuple'>\n",
            "1\n"
          ]
        }
      ],
      "source": [
        "t = (1,'b',876876.908) #Define una tupla con diferentes tipos de datos\n",
        "print(t,type(t)) #Imprime la variable t y concatena el tipo de dato\n",
        "print(t[0]) #Imprime el valor que se encuentra en la posicion principal"
      ]
    },
    {
      "cell_type": "code",
      "execution_count": null,
      "metadata": {
        "id": "Ydmi-a6JNR4_",
        "colab": {
          "base_uri": "https://localhost:8080/"
        },
        "outputId": "f79649f9-4f0e-4f2e-c7a6-341160d67ae9"
      },
      "outputs": [
        {
          "output_type": "stream",
          "name": "stdout",
          "text": [
            "12 [987, 98987] (12, [987, 98987])\n"
          ]
        }
      ],
      "source": [
        "a,b = 12,[987,98987] #Define dos variables, la variable a con un elemento de tipo entro y la variable b con dos elementos de tipo entero\n",
        "u = a,b #Define una nueva variable asignadole los valores que contienen las variables a y b\n",
        "print(a,b,u) #Imprime las varaibles declaradas anteriormente"
      ]
    },
    {
      "cell_type": "code",
      "execution_count": null,
      "metadata": {
        "id": "9Tz5VLc4NR4_",
        "colab": {
          "base_uri": "https://localhost:8080/"
        },
        "outputId": "4536903d-4d9d-48c2-cdcb-561c5a8bce65"
      },
      "outputs": [
        {
          "output_type": "stream",
          "name": "stdout",
          "text": [
            "'tuple' object does not support item assignment\n"
          ]
        }
      ],
      "source": [
        "try: #Ejecucion de la instruccion try para la captura de errores\n",
        "    u[1] = 2 #Define la variable u con su nuevo elemento en la posicion 1\n",
        "except Exception as error: #Ejecucion del bloque except por si el bloque try falla\n",
        "    print(error) #Imprime el error encontrado en el bloque try, el error es el cambio de elemento en la dupla (no se puede)"
      ]
    },
    {
      "cell_type": "markdown",
      "metadata": {
        "id": "WCXyOyKmNR4_"
      },
      "source": [
        "* Los diccionarios están destinados a almacenar valores de la forma *clave-valor* con la sintaxis `{clave1 : valor1, ...}`.\n",
        "\n",
        "Este tipo se utiliza a menudo como tipo de retorno en librerías."
      ]
    },
    {
      "cell_type": "code",
      "execution_count": null,
      "metadata": {
        "id": "5ZvQ4V-jNR4_",
        "colab": {
          "base_uri": "https://localhost:8080/"
        },
        "outputId": "8fb757ba-9698-426b-b86b-4e085c596c10"
      },
      "outputs": [
        {
          "output_type": "stream",
          "name": "stdout",
          "text": [
            "{'parametro1': 1.0, 'parametro2': True, 'parametro3': 'rojo'} <class 'dict'>\n"
          ]
        }
      ],
      "source": [
        "d = {\"parametro1\" : 1.0, \"parametro2\" : True, \"parametro3\" : \"rojo\"} #Define un diccionario con valores clave-valor en la varible d\n",
        "print(d,type(d)) #Imprime la variable d y concatena el tipo de dato de este"
      ]
    },
    {
      "cell_type": "code",
      "execution_count": null,
      "metadata": {
        "id": "XZ82_1FFNR4_",
        "colab": {
          "base_uri": "https://localhost:8080/"
        },
        "outputId": "95caba33-2011-48e9-8362-455937024c91"
      },
      "outputs": [
        {
          "output_type": "stream",
          "name": "stdout",
          "text": [
            "1.0\n",
            "{'parametro1': 2.4, 'parametro2': True, 'parametro3': 'rojo'}\n"
          ]
        }
      ],
      "source": [
        "print(d[\"parametro1\"]) #Imprime los que se encuenta dentro de los corchetes de la varaible d\n",
        "d[\"parametro1\"] = 2.4 #Define un nuevo valor en la primera clave de la variable d\n",
        "print(d) #Imprime la variable d"
      ]
    },
    {
      "cell_type": "markdown",
      "metadata": {
        "id": "w2Umma24NR4_"
      },
      "source": [
        "## Cadenas y formato de texto\n",
        "\n",
        "* Las cadenas se delimitan con comillas (dobles). Pueden manejarse globalmente del mismo modo que las listas (véase más arriba).\n",
        "* <tt>print</tt> muestra (tuplas de) variables (no necesariamente cadenas).\n",
        "* Para incluir una variable en una cadena, es preferible utilizar el método <tt>formato</tt>.\n",
        "\n"
      ]
    },
    {
      "cell_type": "code",
      "execution_count": null,
      "metadata": {
        "id": "40DX93j7NR5A",
        "colab": {
          "base_uri": "https://localhost:8080/"
        },
        "outputId": "6de195fe-581b-4d5d-be32-b79988dda045"
      },
      "outputs": [
        {
          "output_type": "stream",
          "name": "stdout",
          "text": [
            "prueba <class 'str'>\n"
          ]
        }
      ],
      "source": [
        "s = \"prueba\" #Define una variable con una cadena de texto\n",
        "print(s,type(s)) #Imprime la variable s y concatena si tipo de dato"
      ]
    },
    {
      "cell_type": "code",
      "execution_count": null,
      "metadata": {
        "id": "w0bMEiu0NR5A",
        "colab": {
          "base_uri": "https://localhost:8080/"
        },
        "outputId": "676d7dfc-1276-4723-a35b-ae881d54f5b5"
      },
      "outputs": [
        {
          "output_type": "stream",
          "name": "stdout",
          "text": [
            "p\n",
            "prueba42\n"
          ]
        }
      ],
      "source": [
        "print(s[0]) #Imprime el caracter que se encuentra en la posicion principal de la cadena\n",
        "print(s + \"42\") #Imprime la variable s con la implementacion de otra cadena de caracteres"
      ]
    },
    {
      "cell_type": "code",
      "execution_count": null,
      "metadata": {
        "id": "gdMYoKCDNR5A",
        "colab": {
          "base_uri": "https://localhost:8080/"
        },
        "outputId": "eb2b7bec-4ff6-4911-884c-39ecf87b6877"
      },
      "outputs": [
        {
          "output_type": "stream",
          "name": "stdout",
          "text": [
            "prueba 42\n",
            "prueba42\n"
          ]
        }
      ],
      "source": [
        "print(s,42) #Imprime la variable s y la concatenacion de un numero entero\n",
        "print(s+\"42\") #Imprime la variable s mas la implementacion de otra cadena de caracteres"
      ]
    },
    {
      "cell_type": "code",
      "execution_count": null,
      "metadata": {
        "id": "bCqseoPBNR5A",
        "colab": {
          "base_uri": "https://localhost:8080/"
        },
        "outputId": "200c095a-6b6d-4bbc-b15a-4ca3988d5e2e"
      },
      "outputs": [
        {
          "output_type": "stream",
          "name": "stdout",
          "text": [
            "can only concatenate str (not \"int\") to str\n"
          ]
        }
      ],
      "source": [
        "try: #Ejecucion de la instruccion try para la captura de errores\n",
        "    print(s+42) #Imprime la varaible s mas la implementacion de un numero entero\n",
        "except Exception as error: #Ejecucion del bloque except por si el bloque try falla\n",
        "    print(error) #Imprime el error encontrado (Solo puede concatenar elementos de tipo string)"
      ]
    },
    {
      "cell_type": "markdown",
      "metadata": {
        "id": "9fFB6s9uNR5A"
      },
      "source": [
        "El método `formato`"
      ]
    },
    {
      "cell_type": "code",
      "execution_count": null,
      "metadata": {
        "id": "L-u43aQkNR5A",
        "colab": {
          "base_uri": "https://localhost:8080/"
        },
        "outputId": "001282a7-34d8-4b2a-d0db-f13a3e8b0a76"
      },
      "outputs": [
        {
          "output_type": "stream",
          "name": "stdout",
          "text": [
            "test 42\n"
          ]
        }
      ],
      "source": [
        "print( \"test {}\".format(42) ) #Imprime una cadena de texto con llaves ({}) junto a esto el metodo format() logrando asi el cambio de esta cadena implementado en las llaves"
      ]
    },
    {
      "cell_type": "code",
      "execution_count": null,
      "metadata": {
        "id": "uOsslxeBNR5B",
        "colab": {
          "base_uri": "https://localhost:8080/"
        },
        "outputId": "347b9d17-af61-41e7-b555-664ce4f17c73"
      },
      "outputs": [
        {
          "output_type": "stream",
          "name": "stdout",
          "text": [
            "Prueba con un int 4, un float 3.141 (o 3.141000e+00 que es aproximadamente 3.1)\n"
          ]
        }
      ],
      "source": [
        "print( \"Prueba con un int {:d}, un float {} (o {:e} que es aproximadamente {:.1f})\".format(4 , 3.141 , 3.141 , 3.141 )) #Imprime  una cadena de texto con llaves ({}), implementando en estas las rebanadas deseadas que se dan en el metodo format() logrando asi el cambio de esta cadena"
      ]
    },
    {
      "cell_type": "markdown",
      "metadata": {
        "id": "20sRbcRDNR5B"
      },
      "source": [
        "# 2- Bifurcaciones y bucles\n",
        "\n",
        "\n",
        "## If, Elif, Else\n",
        "\n",
        "En Python, la formulación para la ramificación es la condición `if:` (atención al `:`) seguida de una sangría de *una tabulación* que representa lo que se ejecuta si la condición es verdadera. **La sangría es primordial y está en el núcleo de Python."
      ]
    },
    {
      "cell_type": "code",
      "execution_count": null,
      "metadata": {
        "id": "Jk-T_O6RNR5B",
        "colab": {
          "base_uri": "https://localhost:8080/"
        },
        "outputId": "f8c722f1-ecb7-4ae8-9cd6-f55076eefebb"
      },
      "outputs": [
        {
          "output_type": "stream",
          "name": "stdout",
          "text": [
            "enunciado1 y enunciado2 son falsos\n"
          ]
        }
      ],
      "source": [
        "enunciado1 = False #Define la variable con un valor boolean\n",
        "enunciado2 = False #Define la variable con un valor boolean\n",
        "\n",
        "if enunciado1: #Incializa la condicional if con la primera variable\n",
        "    print(\"La sentencia1 es verdadera\") #Imprime una cadena de texto si la primera condicion es verdadera\n",
        "elif enunciado2: #Inicializa la segunda condicional con elif con la segunda varaible\n",
        "    print(\"La sentencia2 es verdadera\") #Imprime una cadena de texto si la segunda condicion es verdadera\n",
        "else: #Inicializa la ultima condicional si las dos anteriores son falsas\n",
        "    print(\"enunciado1 y enunciado2 son falsos\") #Imprime una cadena de texto si la ultima condicional es verdader"
      ]
    },
    {
      "cell_type": "code",
      "execution_count": 24,
      "metadata": {
        "id": "oF0ubAVSNR5B",
        "colab": {
          "base_uri": "https://localhost:8080/"
        },
        "outputId": "b1116d67-f115-4de4-d309-c9f34e8a878d"
      },
      "outputs": [
        {
          "output_type": "stream",
          "name": "stdout",
          "text": [
            "enunciado1 y enunciado2 son verdaderos\n"
          ]
        }
      ],
      "source": [
        "enunciado1 = enunciado2 = True #Define dos variables con el mismo valor boolean\n",
        "if enunciado1: #Inicializa la primera condicional con la primera variable\n",
        "    if enunciado2: #Inicializa la segunda condicional con la segunda varaible\n",
        "        print(\"enunciado1 y enunciado2 son verdaderos\") #Imprime una cadena de texto si las dos condicionales son verdadera"
      ]
    },
    {
      "cell_type": "code",
      "execution_count": 26,
      "metadata": {
        "id": "4iSUTWnYNR5B",
        "colab": {
          "base_uri": "https://localhost:8080/"
        },
        "outputId": "a08ff452-9f8d-41f5-f1fd-ba940d9ad3c3"
      },
      "outputs": [
        {
          "output_type": "stream",
          "name": "stdout",
          "text": [
            "aquí está bien\n",
            "después de la línea anterior, aquí también\n"
          ]
        }
      ],
      "source": [
        "if enunciado1: #Inicializa la condicional con la primera variable\n",
        "    if enunciado2: #Inicializa la segunda condicional con la segunda variable\n",
        "    #print(\"tanto enunciado1 como enunciado2 son Verdaderos\") # Descomentar causaría un error\n",
        "        print(\"aquí está bien\") #Imprime una cadena de texto si la segunda condicion es verdadera\n",
        "    print(\"después de la línea anterior, aquí también\") #Imprime una cadena de texto si la primera condicional es verdadera"
      ]
    },
    {
      "cell_type": "code",
      "execution_count": 30,
      "metadata": {
        "id": "Z9MBYITpNR5B",
        "colab": {
          "base_uri": "https://localhost:8080/"
        },
        "outputId": "fa91d9fc-f3e8-455d-9401-9fe8255121f7"
      },
      "outputs": [
        {
          "output_type": "stream",
          "name": "stdout",
          "text": [
            "se imprime si enunciado1 es true\n",
            "aún dentro del bloque if\n"
          ]
        }
      ],
      "source": [
        "enunciado1 = True #Define una varaible con un valor boolean\n",
        "\n",
        "if enunciado1: #Imprime la condicional con la varaible asignada\n",
        "    print(\"se imprime si enunciado1 es true\") #Imprime una cadena de texto si la condicional es verdadera\n",
        "\n",
        "\n",
        "\n",
        "    print(\"aún dentro del bloque if\") #Imprime una cadena sin terminar la condicional"
      ]
    },
    {
      "cell_type": "code",
      "execution_count": 29,
      "metadata": {
        "id": "JUuvxmUnNR5B",
        "colab": {
          "base_uri": "https://localhost:8080/"
        },
        "outputId": "136ea2f7-c37e-4941-c059-173b6e3196c8"
      },
      "outputs": [
        {
          "output_type": "stream",
          "name": "stdout",
          "text": [
            "fuera del bloque if\n"
          ]
        }
      ],
      "source": [
        "enunciado1 = False #Define una variable de tipo boolean\n",
        "\n",
        "if enunciado1: #Inicializa la condicional con la variable asignada\n",
        "    print(\"se imprime si enunciado1 es True\") #Imprime una cadena de texto si la condicional es verdadera\n",
        "\n",
        "print(\"fuera del bloque if\") #Imprime una cadena de texto informando que termino el bloque if"
      ]
    },
    {
      "cell_type": "markdown",
      "metadata": {
        "id": "uBVMnCYdNR5C"
      },
      "source": [
        "## Bucle For\n",
        "\n",
        "La sintaxis de los bucles `for` es `for x in something:` seguido de una sangría de un tabulador que representa lo que se ejecutará.\n",
        "\n",
        "El `algo` anterior puede ser de distinta naturaleza: lista, diccionario, etc."
      ]
    },
    {
      "cell_type": "code",
      "execution_count": 31,
      "metadata": {
        "id": "sCkeYx8-NR5C",
        "colab": {
          "base_uri": "https://localhost:8080/"
        },
        "outputId": "eeeccd39-7c7e-43f4-c90c-c9956aed1be2"
      },
      "outputs": [
        {
          "output_type": "stream",
          "name": "stdout",
          "text": [
            "1\n",
            "2\n",
            "3\n"
          ]
        }
      ],
      "source": [
        "for x in [1, 2, 3]: #Inicializa el bucle for con una variable en forma de lista\n",
        "    print(x) #Imprime la varaible x"
      ]
    },
    {
      "cell_type": "code",
      "execution_count": 35,
      "metadata": {
        "id": "wVqVf1yHNR5C",
        "colab": {
          "base_uri": "https://localhost:8080/"
        },
        "outputId": "623d4c7f-a1b5-4540-e4aa-77dfa52c36f2"
      },
      "outputs": [
        {
          "output_type": "stream",
          "name": "stdout",
          "text": [
            "Python for data Science \n"
          ]
        }
      ],
      "source": [
        "sentence = \"\" #Define una variable inicializando una cadena\n",
        "for word in [\"Python\", \"for\", \"data\", \"Science\"]: #Inicializa el bucle for con una varaible en forma de lista\n",
        "    sentence = sentence + word + \" \" #Define la variable principal agregandole el valor que contenia y concatena el valor que contiene la variable del bucle\n",
        "print(sentence) #Imprime la variable sentence"
      ]
    },
    {
      "cell_type": "markdown",
      "metadata": {
        "id": "T7w82YHFNR5C"
      },
      "source": [
        "Una función útil es <tt>range</tt>, que genera secuencias de números que pueden utilizarse en bucles."
      ]
    },
    {
      "cell_type": "code",
      "execution_count": 36,
      "metadata": {
        "id": "pEmqdgBhNR5C",
        "colab": {
          "base_uri": "https://localhost:8080/"
        },
        "outputId": "5a37a79b-fa88-43f6-8d90-bdb791c63e24"
      },
      "outputs": [
        {
          "output_type": "stream",
          "name": "stdout",
          "text": [
            "Un tipo de rango\n",
            "0\n",
            "1\n",
            "2\n",
            "3\n",
            "Otro tipo de rango\n",
            "2\n",
            "3\n",
            "4\n",
            "5\n",
            "Y otro tipo de rango\n",
            "1\n",
            "4\n",
            "7\n",
            "10\n"
          ]
        }
      ],
      "source": [
        "print(\"Un tipo de rango\") #Imprime una cadena de texto\n",
        "for x in range(4): #Inicializa el bucle for con una variable en un rango de numeros consecutivos hasta 4\n",
        "    print(x) #Imprime la varaible x\n",
        "\n",
        "print(\"Otro tipo de rango\") #Imprime una cadena de texto\n",
        "for x in range(2,6): #Inicializa el bucle for con una varaible en un rango de numeros consecutivos desde 2 hasta 6\n",
        "    print(x) #Imprime la varaible x\n",
        "\n",
        "print(\"Y otro tipo de rango\") #Imprime una cadena de texto\n",
        "for x in range(1,12,3): #Inicializa el bucle for con una variable en un rango de 1 hasta 12 dando un salto de tres en tres\n",
        "    print(x) #Imprime la variable x"
      ]
    },
    {
      "cell_type": "markdown",
      "metadata": {
        "id": "T1ncZSkDNR5C"
      },
      "source": [
        "Si se necesita el índice junto con el valor, la función `enumerate` es útil."
      ]
    },
    {
      "cell_type": "code",
      "execution_count": null,
      "metadata": {
        "id": "3v5Ne-yENR5D"
      },
      "outputs": [],
      "source": [
        "for idx, x in enumerate(range(-3,3)):\n",
        "    print(idx, x)"
      ]
    },
    {
      "cell_type": "markdown",
      "metadata": {
        "id": "2HNMrB7NNR5D"
      },
      "source": [
        "## Bucle while\n",
        "\n",
        "De forma similar a los bucles `for`, la sintaxis es `while condition:` seguida de una sangría de un tabulador que representa lo que se ejecutará."
      ]
    },
    {
      "cell_type": "code",
      "execution_count": 37,
      "metadata": {
        "id": "ZETkF8bDNR5D",
        "colab": {
          "base_uri": "https://localhost:8080/"
        },
        "outputId": "037d8c20-7aac-4b11-9c28-9b733d504f3d"
      },
      "outputs": [
        {
          "output_type": "stream",
          "name": "stdout",
          "text": [
            "0\n",
            "1\n",
            "2\n",
            "3\n",
            "4\n"
          ]
        }
      ],
      "source": [
        "i = 0 #Define una variable con un valor entero\n",
        "\n",
        "while i<5: #Inicializa el bucle while con la condicion de que la variable i es menor que 5\n",
        "    print(i) #Imprime la varaible i\n",
        "    i+=1 #Incrementa el valor de la varaible i en 1 hasta 5"
      ]
    },
    {
      "cell_type": "markdown",
      "metadata": {
        "id": "ZtgZIj_9NR5D"
      },
      "source": [
        "## Try [*]\n",
        "\n",
        "Cuando un comando puede fallar, puedes `intentar` ejecutarlo y opcionalmente atrapar la `Exception` (es decir, el error).\n",
        "\n"
      ]
    },
    {
      "cell_type": "code",
      "execution_count": 38,
      "metadata": {
        "id": "Nd97WHKINR5D",
        "colab": {
          "base_uri": "https://localhost:8080/"
        },
        "outputId": "21e86cfa-bf9f-4084-9d4d-f935a535b910"
      },
      "outputs": [
        {
          "output_type": "stream",
          "name": "stdout",
          "text": [
            "[1, 2, 3]\n",
            "Comando Ok\n",
            "[1, 3, 3]\n",
            "list assignment index out of range\n",
            "[1, 3, 3]\n"
          ]
        }
      ],
      "source": [
        "a = [1,2,3] #Define una variable como una lista\n",
        "print(a) #Imprime la variable a\n",
        "\n",
        "try: #Inicializa la instruccion try para la captura de errores\n",
        "    a[1] = 3 #Define la nueva posicion 1 con un nuevo valor\n",
        "    print(\"Comando Ok\") #Imprime una cadena de texto\n",
        "except Exception as error: #Inicializa la intruccion except por si hay una falla presente en el bloque try\n",
        "    print(error) #Imprime la variable error, no hay error encontrado\n",
        "\n",
        "print(a) #Imprime la variable a\n",
        "\n",
        "try: #Inicializa la instruccion try para la captura de errores\n",
        "    a[6] = 3 #Define la nueva posicion 6 con un nuevo valor\n",
        "    print(\"Comando Ok\") #Imprime una cadena de texto\n",
        "except Exception as error: #Inicializa la intruccion except por si hay una falla presente en el bloque try\n",
        "    print(error) #Imprime la varaible error, encuentra error, no se puede asignar un valor en el indice mas alto del rango de la lista\n",
        "\n",
        "print(a) #Imprime la variable a"
      ]
    },
    {
      "cell_type": "markdown",
      "metadata": {
        "id": "eJUrNjZHNR5D"
      },
      "source": [
        "# 3- Funciones\n",
        "\n",
        "\n",
        "En Python, una función se define como `def nombre_funcion(argumentos_funcion):` seguido de una sangría que representa lo que hay dentro de la función. (No se proporcionan argumentos de retorno a priori)\n"
      ]
    },
    {
      "cell_type": "code",
      "execution_count": 41,
      "metadata": {
        "id": "Uy4FWcXQNR5D",
        "colab": {
          "base_uri": "https://localhost:8080/"
        },
        "outputId": "270d81a2-4401-4eb8-c221-34d72b1a072c"
      },
      "outputs": [
        {
          "output_type": "stream",
          "name": "stdout",
          "text": [
            "\"fun0\" solo imprime\n"
          ]
        }
      ],
      "source": [
        "def fun0(): #Define una funcion sin parametros\n",
        "    print(\"\\\"fun0\\\" solo imprime\") #Imprime una cadena de texto\n",
        "\n",
        "fun0() #Llama la funcion para ejecutarla en consola"
      ]
    },
    {
      "cell_type": "markdown",
      "metadata": {
        "id": "LPobq94ANR5E"
      },
      "source": [
        "Se puede añadir un docstring para documentar la función, que aparecerá al llamar a `help`."
      ]
    },
    {
      "cell_type": "code",
      "execution_count": 45,
      "metadata": {
        "id": "BOjq9vc7NR5E",
        "colab": {
          "base_uri": "https://localhost:8080/"
        },
        "outputId": "a5af4b7c-07d6-47a6-9e9e-6b50f4204016"
      },
      "outputs": [
        {
          "output_type": "stream",
          "name": "stdout",
          "text": [
            "[1, 'iuoiu', True]  tiene una longitud  3\n"
          ]
        }
      ],
      "source": [
        "def fun1(l): #Define una funcion como \"fun1\"\n",
        "    \"\"\"\n",
        "    Imprime una lista y su longitud\n",
        "    \"\"\" #Realiza una impresion multilinea en comillas triples\n",
        "    print(l, \" tiene una longitud \", len(l)) #Imprime el parametro \"l\", concatenando una cadena de texto y la longitud del parametro\n",
        "\n",
        "fun1([1,'iuoiu',True]) #Llama la funcion para ejecutarla en consola"
      ]
    },
    {
      "cell_type": "code",
      "execution_count": 43,
      "metadata": {
        "id": "BO7oe3DxNR5E",
        "colab": {
          "base_uri": "https://localhost:8080/"
        },
        "outputId": "1ef9c820-58c9-49f9-8fe5-91ceff3b8d0b"
      },
      "outputs": [
        {
          "output_type": "stream",
          "name": "stdout",
          "text": [
            "Help on function fun1 in module __main__:\n",
            "\n",
            "fun1(l)\n",
            "    Imprime una lista y su longitud\n",
            "\n"
          ]
        }
      ],
      "source": [
        "help(fun1) #Informa sobre la ayuda de la funcion concatenando la cadena de documentacion"
      ]
    },
    {
      "cell_type": "markdown",
      "metadata": {
        "id": "lclX69HoNR5E"
      },
      "source": [
        "## Salidas\n",
        "\n",
        "`return` da salida a una variable, tupla, diccionario, ..."
      ]
    },
    {
      "cell_type": "code",
      "execution_count": 46,
      "metadata": {
        "id": "oRHfAejLNR5E",
        "colab": {
          "base_uri": "https://localhost:8080/"
        },
        "outputId": "105d018f-13e4-41cb-8af1-52bfe1fb22c7"
      },
      "outputs": [
        {
          "output_type": "stream",
          "name": "stdout",
          "text": [
            "Help on function square in module __main__:\n",
            "\n",
            "square(x)\n",
            "    Devuelve x al cuadrado.\n",
            "\n",
            "144\n"
          ]
        }
      ],
      "source": [
        "def square(x): #Define una funcion \"square()\" con un paramentro \"x\"\n",
        "    \"\"\"\n",
        "    Devuelve x al cuadrado.\n",
        "    \"\"\" #Realiza una impresion multilinea en comillas triples\n",
        "    return(x ** 2) #Retorna el parametro \"x\" elevandolo al cuadrado\n",
        "\n",
        "help(square)  #Informa sobre la ayuda de la funcion \"square\" concatenando la cadena de documentacion\n",
        "res = square(12) #Define una varaible con la funcion \"square\" con nuevo argumento\n",
        "print(res) #Imprime la varaible res"
      ]
    },
    {
      "cell_type": "code",
      "execution_count": 47,
      "metadata": {
        "id": "mlzItzgjNR5E",
        "colab": {
          "base_uri": "https://localhost:8080/"
        },
        "outputId": "96cf8f7b-86ae-4f54-e0a4-1713aed8b7eb"
      },
      "outputs": [
        {
          "output_type": "stream",
          "name": "stdout",
          "text": [
            "Help on function powers in module __main__:\n",
            "\n",
            "powers(x)\n",
            "    Devuelve las primeras potencias de x.\n",
            "\n"
          ]
        }
      ],
      "source": [
        "def powers(x): #Define una funcion \"powers\" con un parametro \"x\"\n",
        "    \"\"\"\n",
        "    Devuelve las primeras potencias de x.\n",
        "    \"\"\"  #Realiza una impresion multilinea en comillas triples\n",
        "    return(x ** 2, x ** 3, x ** 4) #Retorna el parametro \"x\" con una tupla con las potencias de 2, 3 y 4\n",
        "\n",
        "help(powers) #Informa sobre la ayuda de la funcion \"powers\" concatenando la cadena de documentacion"
      ]
    },
    {
      "cell_type": "code",
      "execution_count": null,
      "metadata": {
        "id": "OauX13e4NR5F"
      },
      "outputs": [],
      "source": [
        "res = powers(12) #Define una variable con la funcion \"powers\" y con el parametro 12\n",
        "print(res, type(res)) #Imprime la variable res y concatena el tipo de dato"
      ]
    },
    {
      "cell_type": "code",
      "execution_count": null,
      "metadata": {
        "id": "RR0hMZo1NR5F"
      },
      "outputs": [],
      "source": [
        "two,three,four = powers(3) #Define tres variables con la funcion \"powers\" y con el parametro 3\n",
        "print(three,type(three)) #Imprime la varaible three y concatena el tipo de dato"
      ]
    },
    {
      "cell_type": "code",
      "execution_count": null,
      "metadata": {
        "id": "XwYOLSvWNR5G"
      },
      "outputs": [],
      "source": [
        "def powers_dict(x): #Define una fucnion \"powers_dict\" con un parametro \"x\"\n",
        "    \"\"\"\n",
        "    Devuelve las primeras potencias de x como un diccionario.\n",
        "    \"\"\" #Realiza una impresion multilinea en comillas triples\n",
        "    return{\"two\": x ** 2, \"three\": x ** 3,  \"four\": x ** 4} #Retorna un diccionario con el parametro \"x\" con las potencias de 2, 3 y 4\n",
        "\n",
        "\n",
        "res = powers_dict(12) #Define una variable con la funcion \"powers_dict\" y con el parametro 12\n",
        "print(res, type(res)) #Imprime la varaible res y concatena el tipo de dato\n",
        "print(res[\"two\"],type(res[\"two\"])) #Imprime el valor que se encuentra en la clave \"two\" en \"res\" y concatena el tipo de dato"
      ]
    },
    {
      "cell_type": "markdown",
      "metadata": {
        "id": "v9JIZ_OVNR5G"
      },
      "source": [
        "## Argumentos\n",
        "\n",
        "Es posible\n",
        "* Dar los argumentos en cualquier orden siempre que se escriba el nombre de la variable argumental correspondiente\n",
        "* Establecer valores por defecto a las variables para que se conviertan en opcionales"
      ]
    },
    {
      "cell_type": "code",
      "execution_count": 49,
      "metadata": {
        "id": "mINaJvY8NR5G"
      },
      "outputs": [],
      "source": [
        "def fancy_power(x, p=2, debug=False): #Define una funcion \"fancy_power\" con unos parametros\n",
        "    \"\"\"\n",
        "    He aquí una versión elegante de potencia que calcula el cuadrado del argumento u otras potencias si se establece p\n",
        "    \"\"\" #Realiza una impresion multilinea en comillas triples\n",
        "    if debug: #Inicializa la condicional if\n",
        "        print( \"\\\"fancy_power\\\" se llama con x =\", x, \" y p =\", p) #Imprime una cadena de texto\n",
        "    return(x**p) #Retorna x elevado a la p"
      ]
    },
    {
      "cell_type": "code",
      "execution_count": 50,
      "metadata": {
        "id": "B6eVwmJMNR5G",
        "colab": {
          "base_uri": "https://localhost:8080/"
        },
        "outputId": "d33b5d85-108f-4e48-c8ef-b1d57ca82546"
      },
      "outputs": [
        {
          "output_type": "stream",
          "name": "stdout",
          "text": [
            "25\n",
            "125\n"
          ]
        }
      ],
      "source": [
        "print(fancy_power(5)) #Imprime la funcion \"fancy_power\" con el argumento \"5\" elevado al cuadrado\n",
        "print(fancy_power(5,p=3)) #Imprime la funcion \"fancy_power\" con el arguento \"5\" concatenando \"p=3\" elevado al cubo"
      ]
    },
    {
      "cell_type": "code",
      "execution_count": 51,
      "metadata": {
        "id": "e-i_RdBVNR5H",
        "colab": {
          "base_uri": "https://localhost:8080/"
        },
        "outputId": "13caf2b9-2c2d-448d-c591-2af570b972f3"
      },
      "outputs": [
        {
          "output_type": "stream",
          "name": "stdout",
          "text": [
            "\"fancy_power\" se llama con x = 2  y p = 8\n",
            "256\n"
          ]
        }
      ],
      "source": [
        "res = fancy_power(p=8,x=2,debug=True) #Define una varaible con la funcion \"fancy_power\" estableciendo asi \"p=8,x=2,debug=True\"\n",
        "print(res) #Imprime la variable res"
      ]
    },
    {
      "cell_type": "markdown",
      "metadata": {
        "id": "Ja7kYo0aNR5H"
      },
      "source": [
        "# 4- Clases [*]\n",
        "\n",
        "\n",
        "Las clases son el núcleo de la programación *orientada a objetos*, se utilizan para representar un objeto con *atributos* (variables) y *métodos* (funciones) relacionados.\n",
        "\n",
        "Se definen como funciones pero con la palabra clave class `clase mi_clase(objeto):` seguida de una sangría. La definición de una clase suele contener algunos métodos:\n",
        "* El primer argumento de un método debe ser `self` en auto-referencia.\n",
        "* Algunos nombres de métodos tienen un significado específico:\n",
        "   * `__init__`: método ejecutado en la creación del objeto.\n",
        "   * `__str__`: método ejecutado para representar el objeto como una cadena, por ejemplo cuando el objeto se pasa a la función `print`."
      ]
    },
    {
      "cell_type": "code",
      "execution_count": null,
      "metadata": {
        "id": "vJxVbdwONR5H"
      },
      "outputs": [],
      "source": [
        "class Point(object): #Crea una clase denominada point\n",
        "    \"\"\"\n",
        "    Clase de un punto en el plano 2D.\n",
        "    \"\"\" #Realiza una impresion multilinea en comillas triples\n",
        "    def __init__(self, x=0.0, y=0.0): #Define una funcion \"__init__()\"\n",
        "        \"\"\"\n",
        "        Creación de un nuevo punto en la posición (x, y).\n",
        "        \"\"\" #Realiza una impresion multilinea en comillas triples\n",
        "        self.x = x #Inicializa el atributo \"x\" del objeto point\n",
        "        self.y = y #Inicializa el atributo \"y\" del objeto point\n",
        "\n",
        "    def translate(self, dx, dy): #Define una funcion \"translate()\"\n",
        "        \"\"\"\n",
        "        Traslada el punto por (dx , dy).\n",
        "        \"\"\" #Realiza una impresion multilinea en comillas triples\n",
        "        self.x += dx #Define la coordenada x del punto para desplazarla por el valor dado en dx\n",
        "        self.y += dy #Define la coordenada y del punto para desplazarla por el valor dado en dy\n",
        "\n",
        "    def __str__(self): #Define una funcion \"__str__()\"\n",
        "        return(\"Punto: ({:.2f}, {:.2f})\".format(self.x, self.y)) #Retorna la representacion en cadena del punto con la funcion format()"
      ]
    },
    {
      "cell_type": "code",
      "execution_count": null,
      "metadata": {
        "id": "_3Luz6sJNR5H"
      },
      "outputs": [],
      "source": [
        "p1 = Point() #Define un objeto \"point()\" en p1 con las coordenadas predeterminadas\n",
        "print(p1) #Imprime el objeto p1\n",
        "\n",
        "p1.translate(3,2) #Utiliza el metodo translate() para desplazar el punto p1 en dx:3, dy:2\n",
        "print(p1) #Imprime el objeto p1\n",
        "\n",
        "p2 = Point(1.2,3) #Define un objeto \"point()\" en p2 con coordenadas(x:1.2,y:3)\n",
        "print(p2) #Imprime el objeto p2"
      ]
    },
    {
      "cell_type": "markdown",
      "metadata": {
        "id": "Z_z7wD5JNR5H"
      },
      "source": [
        "# 5- Lectura y escritura de archivos\n",
        "\n",
        "\n",
        "\n",
        "Pendiente para la próxima clase."
      ]
    }
  ],
  "metadata": {
    "kernelspec": {
      "display_name": "Python 3",
      "language": "python",
      "name": "python3"
    },
    "language_info": {
      "codemirror_mode": {
        "name": "ipython",
        "version": 3
      },
      "file_extension": ".py",
      "mimetype": "text/x-python",
      "name": "python",
      "nbconvert_exporter": "python",
      "pygments_lexer": "ipython3",
      "version": "3.8.10"
    },
    "varInspector": {
      "cols": {
        "lenName": 16,
        "lenType": 16,
        "lenVar": 40
      },
      "kernels_config": {
        "python": {
          "delete_cmd_postfix": "",
          "delete_cmd_prefix": "del ",
          "library": "var_list.py",
          "varRefreshCmd": "print(var_dic_list())"
        },
        "r": {
          "delete_cmd_postfix": ") ",
          "delete_cmd_prefix": "rm(",
          "library": "var_list.r",
          "varRefreshCmd": "cat(var_dic_list()) "
        }
      },
      "types_to_exclude": [
        "module",
        "function",
        "builtin_function_or_method",
        "instance",
        "_Feature"
      ],
      "window_display": false
    },
    "colab": {
      "provenance": []
    }
  },
  "nbformat": 4,
  "nbformat_minor": 0
}